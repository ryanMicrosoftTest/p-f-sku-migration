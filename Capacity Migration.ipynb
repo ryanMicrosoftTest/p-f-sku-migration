{
 "cells": [
  {
   "cell_type": "markdown",
   "id": "5c27dfd1-4fe0-4a97-92e6-ddf78889aa93",
   "metadata": {
    "nteract": {
     "transient": {
      "deleting": false
     }
    }
   },
   "source": [
    "### Install the latest .whl package\n",
    "\n",
    "Check [here](https://pypi.org/project/semantic-link-labs/) to see the latest version."
   ]
  },
  {
   "cell_type": "code",
   "execution_count": null,
   "id": "d5cae9db-cef9-48a8-a351-9c5fcc99645c",
   "metadata": {
    "jupyter": {
     "outputs_hidden": true,
     "source_hidden": false
    },
    "microsoft": {
     "language": "python",
     "language_group": "synapse_pyspark"
    },
    "nteract": {
     "transient": {
      "deleting": false
     }
    }
   },
   "outputs": [],
   "source": [
    "%pip install semantic-link-labs"
   ]
  },
  {
   "cell_type": "markdown",
   "id": "2856d26d",
   "metadata": {},
   "source": [
    "### Requirements\n",
    "* Must have an Azure Subscription\n",
    "* Must [register an App](https://ms.portal.azure.com/#blade/Microsoft_AAD_RegisteredApps/ApplicationsListBlade)\n",
    "    * Permissions: Will need the Contributor role at the scope where the resources will be created, which is often the subscription level\n",
    "* Azure Key Vault\n",
    "    * [Set up](https://learn.microsoft.com/azure/key-vault/secrets/quick-create-portal) within the Azure Subscription\n",
    "    * Save secrets for the Tenant ID, Client ID (Application ID), Client Secret\n",
    "    * Permissions: Ensure the user who will be executing the notebooks has “Key Vault Secrets User”\n",
    "* Fabric Permissions\n",
    "    * User should be a tenant admin. This ensures they have the necessary authority to execute and manage the notebooks without encountering permission issues.\n",
    "\n",
    "### Result\n",
    "* F skus are created for each (specified) capacity\n",
    "    * Within the same region as the P SKU\n",
    "    * Equivalent SKU size as the P SKU\n",
    "    * Same admins as listed on the P SKU\n",
    "    * All workspaces are migrated to the corresponding new capacity\n",
    "* The names of the newly created F SKU capacities will be an alphanumeric lowercase version of the P SKU capacity name, suffixed with 'fsku'. As an example: \"My capacity_3!\" -> \"mycapacity3fsku\".\n"
   ]
  },
  {
   "cell_type": "markdown",
   "id": "b195eae8",
   "metadata": {},
   "source": [
    "### Import the library and set the initial parameters"
   ]
  },
  {
   "cell_type": "code",
   "execution_count": null,
   "id": "04914761-3be5-40c8-984c-7848e2bc495e",
   "metadata": {
    "microsoft": {
     "language": "python",
     "language_group": "synapse_pyspark"
    }
   },
   "outputs": [],
   "source": [
    "import requests\n",
    "from azure.identity import DefaultAzureCredential, ClientSecretCredential\n",
    "from azure.keyvault.secrets import SecretClient\n",
    "import os\n",
    "import notebookutils\n",
    "import pandas as pd"
   ]
  },
  {
   "cell_type": "code",
   "execution_count": null,
   "id": "2ab19f06-59d2-40e1-a28f-bda43c09e7e6",
   "metadata": {
    "microsoft": {
     "language": "python",
     "language_group": "synapse_pyspark"
    }
   },
   "outputs": [],
   "source": [
    "# functions\n",
    "def get_api_token_via_akv(kv_uri:str, client_id_secret:str, tenant_id_secret:str, client_secret_name:str)->str:\n",
    "    \"\"\"\n",
    "    Function to retrieve an api token used to authenticate with Microsoft Fabric APIs\n",
    "\n",
    "    kv_uri:str: The uri of the azure key vault\n",
    "    client_id_secret:str: The name of the key used to store the value for the client id in the akv\n",
    "    tenant_id_secret:str: The name of the key used to store the value for the tenant id in the akv\n",
    "    client_secret_name:str: The name of the key used to store the value for the client secret in the akv\n",
    "\n",
    "    \"\"\"\n",
    "    client_id = notebookutils.credentials.getSecret(kv_uri, client_id_secret)\n",
    "    tenant_id = notebookutils.credentials.getSecret(kv_uri, tenant_id_secret)\n",
    "    client_secret = notebookutils.credentials.getSecret(kv_uri, client_secret_name)\n",
    "\n",
    "    credential = ClientSecretCredential(tenant_id, client_id, client_secret)\n",
    "    scope = 'https://analysis.windows.net/powerbi/api/.default'\n",
    "    token = credential.get_token(scope).token\n",
    "\n",
    "    return token\n",
    "\n",
    "\n",
    "def assign_workspace_to_capacity(workspace_list:list, capacity_str:str, api_token:str) ->None:\n",
    "    \"\"\"\n",
    "    Given a list assign all workspaces in list to a capacity\n",
    "    \"\"\"\n",
    "    for workspace_id in workspace_list:\n",
    "        print(f'Attempting to migrate workspace:{workspace_id} to capacity:{capacity_str}')\n",
    "\n",
    "        url = f'https://api.fabric.microsoft.com/v1/workspaces/{workspace_id}/assignToCapacity'\n",
    "\n",
    "        post_body = {\n",
    "            \"capacityId\": capacity_str\n",
    "            }\n",
    "\n",
    "\n",
    "        headers = {\n",
    "        \"Authorization\": f\"Bearer {api_token}\",\n",
    "        \"Content-Type\": \"application/json\"\n",
    "        }    \n",
    "\n",
    "        response = requests.post(url, headers=headers, json=post_body)\n",
    "        print(response.status_code)\n"
   ]
  },
  {
   "cell_type": "code",
   "execution_count": null,
   "id": "1a718431-5060-4ab3-9590-2edd4d9b0652",
   "metadata": {
    "microsoft": {
     "language": "python",
     "language_group": "synapse_pyspark"
    }
   },
   "outputs": [],
   "source": [
    "kv_uri = 'https://kvfabricprodeus2rh.vault.azure.net/'\n",
    "client_id_secret = 'fuam-spn-client-id'\n",
    "tenant_id_secret = 'fuam-spn-tenant-id'\n",
    "client_secret_name = 'fuam-spn-secret'\n",
    "\n",
    "# get oauth token\n",
    "token = get_api_token_via_akv(kv_uri, client_id_secret, tenant_id_secret, client_secret_name)"
   ]
  },
  {
   "cell_type": "code",
   "execution_count": null,
   "id": "6e135ffd-dfcf-403d-8914-a07c9a093446",
   "metadata": {
    "microsoft": {
     "language": "python",
     "language_group": "synapse_pyspark"
    }
   },
   "outputs": [],
   "source": [
    "workspace_list = ['2aeec6bf-64bd-4d25-be52-96846463b87c', 'fabe3025-1bb3-49a4-9948-09daf4e797c9', '79a33dbf-1742-40c5-885b-fb369152d26e']"
   ]
  },
  {
   "cell_type": "code",
   "execution_count": null,
   "id": "ba87ade3-305a-4e77-8024-3f6a864a5d56",
   "metadata": {
    "microsoft": {
     "language": "python",
     "language_group": "synapse_pyspark"
    }
   },
   "outputs": [],
   "source": [
    "assign_workspace_to_capacity(workspace_list=workspace_list, capacity_str='76BFD071-AE1C-4189-8833-1A2F2B48E505', api_token=token)"
   ]
  },
  {
   "cell_type": "markdown",
   "id": "b4ab5146-5620-4de3-bbe0-2c7025cc5915",
   "metadata": {
    "microsoft": {
     "language": "python",
     "language_group": "synapse_pyspark"
    },
    "nteract": {
     "transient": {
      "deleting": false
     }
    }
   },
   "source": [
    "### Setup for Key Vault Authentication"
   ]
  },
  {
   "cell_type": "code",
   "execution_count": null,
   "id": "1344e286",
   "metadata": {
    "microsoft": {
     "language": "python",
     "language_group": "synapse_pyspark"
    }
   },
   "outputs": [],
   "source": [
    "import sempy_labs as labs\n",
    "import sempy_labs.admin as admin\n",
    "\n",
    "azure_subscription_id = '' # Enter your Azure subscription ID\n",
    "resource_group = '' # Enter the name of the resource group (to be used to create the new F skus)\n",
    "\n",
    "key_vault_uri = '', # Enter your key vault URI\n",
    "key_vault_tenant_id = '', # Enter the key vault key to the secret storing your Tenant ID\n",
    "key_vault_client_id = '', # Enter the key vault key to the secret storing your Client ID (Application ID)\n",
    "key_vault_client_secret = '' # Enter the key vault key to the secret storing your Client Secret"
   ]
  },
  {
   "cell_type": "markdown",
   "id": "5a3fe6e8-b8aa-4447-812b-7931831e07fe",
   "metadata": {
    "nteract": {
     "transient": {
      "deleting": false
     }
    }
   },
   "source": [
    "### Migrate a single P SKU -> F SKU\n",
    "Set the 'capacities' parameter to the single P SKU."
   ]
  },
  {
   "cell_type": "code",
   "execution_count": null,
   "id": "3655dd88",
   "metadata": {
    "microsoft": {
     "language": "python",
     "language_group": "synapse_pyspark"
    }
   },
   "outputs": [],
   "source": [
    "with labs.service_principal_authentication(\n",
    "    key_vault_uri=key_vault_uri, \n",
    "    key_vault_tenant_id=key_vault_tenant_id,\n",
    "    key_vault_client_id=key_vault_client_id,\n",
    "    key_vault_client_secret=key_vault_client_secret):\n",
    "\n",
    "    labs.migrate_capacities(\n",
    "        azure_subscription_id = azure_subscription_id,\n",
    "        resource_group = resource_group,\n",
    "        capacities = 'CapacityA',\n",
    "        p_sku_only = True,\n",
    "    )"
   ]
  },
  {
   "cell_type": "markdown",
   "id": "175a59b8",
   "metadata": {},
   "source": [
    "### Migrate a list of P SKUs to F SKUs\n",
    "Set the 'capacities' parameter to a list of P SKUs."
   ]
  },
  {
   "cell_type": "code",
   "execution_count": null,
   "id": "3a7a80ec",
   "metadata": {
    "microsoft": {
     "language": "python",
     "language_group": "synapse_pyspark"
    }
   },
   "outputs": [],
   "source": [
    "with labs.service_principal_authentication(\n",
    "    key_vault_uri=key_vault_uri, \n",
    "    key_vault_tenant_id=key_vault_tenant_id,\n",
    "    key_vault_client_id=key_vault_client_id,\n",
    "    key_vault_client_secret=key_vault_client_secret):\n",
    "\n",
    "    labs.migrate_capacities(\n",
    "        azure_subscription_id = azure_subscription_id,\n",
    "        resource_group = resource_group,\n",
    "        capacities = ['CapacityA', 'CapacityB', 'CapacityC'],\n",
    "        p_sku_only = True,\n",
    "    )"
   ]
  },
  {
   "cell_type": "markdown",
   "id": "30438799",
   "metadata": {},
   "source": [
    "### Migrate all P SKUs to F SKUs\n",
    "Set the 'capacities' parameter to None."
   ]
  },
  {
   "cell_type": "code",
   "execution_count": null,
   "id": "315c2dc7",
   "metadata": {
    "microsoft": {
     "language": "python",
     "language_group": "synapse_pyspark"
    }
   },
   "outputs": [],
   "source": [
    "with labs.service_principal_authentication(\n",
    "    key_vault_uri=key_vault_uri, \n",
    "    key_vault_tenant_id=key_vault_tenant_id,\n",
    "    key_vault_client_id=key_vault_client_id,\n",
    "    key_vault_client_secret=key_vault_client_secret):\n",
    "\n",
    "    labs.migrate_capacities(\n",
    "        azure_subscription_id = azure_subscription_id,\n",
    "        resource_group = resource_group,\n",
    "        capacities = None,\n",
    "        p_sku_only = True,\n",
    "    )"
   ]
  },
  {
   "cell_type": "markdown",
   "id": "1d8e73b2",
   "metadata": {},
   "source": [
    "### Migrate a list of P SKUs to F SKUs; associate each capacity with a specific resource group\n",
    "This process ensures that each F SKU is created within the resource group specified in the resource_group_mapping dictionary."
   ]
  },
  {
   "cell_type": "code",
   "execution_count": null,
   "id": "2854bf8a",
   "metadata": {
    "microsoft": {
     "language": "python",
     "language_group": "synapse_pyspark"
    }
   },
   "outputs": [],
   "source": [
    "resource_group_mapping = {\n",
    "    \"CapacityA\": \"ResourceGroupA\",\n",
    "    \"CapacityB\": \"ResourceGroupA\",\n",
    "    \"CapacityC\": \"ResourceGroupB\",\n",
    "}\n",
    "\n",
    "with labs.service_principal_authentication(\n",
    "    key_vault_uri=key_vault_uri, \n",
    "    key_vault_tenant_id=key_vault_tenant_id,\n",
    "    key_vault_client_id=key_vault_client_id,\n",
    "    key_vault_client_secret=key_vault_client_secret):\n",
    "\n",
    "    labs.migrate_capacities(\n",
    "        azure_subscription_id = azure_subscription_id,\n",
    "        resource_group = resource_group_mapping,\n",
    "        capacities = ['CapacityA', 'CapacityB', 'CapacityC'],\n",
    "        p_sku_only = True,\n",
    "    )"
   ]
  },
  {
   "cell_type": "markdown",
   "id": "c3f497c8",
   "metadata": {},
   "source": [
    "### Migrate a single source capacity to a target capacity (target capacity already created)"
   ]
  },
  {
   "cell_type": "code",
   "execution_count": null,
   "id": "a4f0b5a2",
   "metadata": {
    "microsoft": {
     "language": "python",
     "language_group": "synapse_pyspark"
    }
   },
   "outputs": [],
   "source": [
    "source_capacity = '' # Enter the Source capacity name\n",
    "target_capacity = '' # Enter the Target capacity name (already exists) \n",
    "\n",
    "admin.assign_workspaces_to_capacity(\n",
    "    source_capacity=source_capacity,\n",
    "    target_capacity=target_capacity,\n",
    "    workspace=None,\n",
    ")"
   ]
  },
  {
   "cell_type": "markdown",
   "id": "e0db744b",
   "metadata": {},
   "source": [
    "### Migrate a list of source capacities to target capacities (target capacity already created)"
   ]
  },
  {
   "cell_type": "code",
   "execution_count": null,
   "id": "0e04d519",
   "metadata": {
    "microsoft": {
     "language": "python",
     "language_group": "synapse_pyspark"
    }
   },
   "outputs": [],
   "source": [
    "capacity_mapping = {\n",
    "    \"capacitya\": \"capacityanew\", # Format is \"Source SKU\": \"Target SKU\"\n",
    "    \"capacityb\": \"capacitybnew\",\n",
    "    \"capacityc\": \"capacitycnew\",\n",
    "}\n",
    "\n",
    "capacities = list(capacity_mapping.keys())\n",
    "\n",
    "for capacity in capacities:\n",
    "    admin.assign_workspaces_to_capacity(\n",
    "        source_capacity=capacity,\n",
    "        target_capacity=capacity_mapping.get(capacity),\n",
    "        workspace=None,\n",
    "    )"
   ]
  },
  {
   "cell_type": "markdown",
   "id": "67787c3a",
   "metadata": {},
   "source": [
    "### Migrate a Fabric Trial Capacity (FT1) to a Fabric Capacity (F SKU)"
   ]
  },
  {
   "cell_type": "code",
   "execution_count": null,
   "id": "4efb55b2",
   "metadata": {
    "microsoft": {
     "language": "python",
     "language_group": "synapse_pyspark"
    }
   },
   "outputs": [],
   "source": [
    "with labs.service_principal_authentication(\n",
    "    key_vault_uri=key_vault_uri, \n",
    "    key_vault_tenant_id=key_vault_tenant_id,\n",
    "    key_vault_client_id=key_vault_client_id,\n",
    "    key_vault_client_secret=key_vault_client_secret):\n",
    "\n",
    "    labs.migrate_fabric_trial_capacity(\n",
    "        azure_subscription_id = azure_subscription_id,\n",
    "        resource_group = resource_group,\n",
    "        source_capacity = '', # The name of the Trial capacity.\n",
    "        target_capacity = '', # The name of Fabric capacity (if it does not exist it will be created).\n",
    "        target_capacity_sku = \"F64\", # Defaults to F64 but can specify the required SKU.\n",
    "        target_capacity_admin_members = None, # Setting this to None will use the same admin members as the Trial capacity.\n",
    "    )"
   ]
  },
  {
   "cell_type": "markdown",
   "id": "fc699168-5cda-4f4a-8c40-e87f210e8aa8",
   "metadata": {
    "nteract": {
     "transient": {
      "deleting": false
     }
    }
   },
   "source": [
    "# New Cells"
   ]
  }
 ],
 "metadata": {
  "kernel_info": {
   "name": "synapse_pyspark"
  },
  "kernelspec": {
   "display_name": "Synapse PySpark",
   "language": "Python",
   "name": "synapse_pyspark"
  },
  "language_info": {
   "name": "python"
  },
  "microsoft": {
   "language": "python",
   "language_group": "synapse_pyspark",
   "ms_spell_check": {
    "ms_spell_check_language": "en"
   }
  },
  "nteract": {
   "version": "nteract-front-end@1.0.0"
  },
  "spark_compute": {
   "compute_id": "/trident/default",
   "session_options": {
    "conf": {
     "spark.synapse.nbs.session.timeout": "1200000"
    }
   }
  },
  "synapse_widget": {
   "state": {},
   "version": "0.1"
  },
  "widgets": {}
 },
 "nbformat": 4,
 "nbformat_minor": 5
}
