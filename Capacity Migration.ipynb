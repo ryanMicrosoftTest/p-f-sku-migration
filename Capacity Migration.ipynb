{
 "cells": [
  {
   "cell_type": "markdown",
   "id": "5c27dfd1-4fe0-4a97-92e6-ddf78889aa93",
   "metadata": {
    "nteract": {
     "transient": {
      "deleting": false
     }
    }
   },
   "source": [
    "### Install the latest .whl package\n",
    "\n",
    "Check [here](https://pypi.org/project/semantic-link-labs/) to see the latest version."
   ]
  },
  {
   "cell_type": "code",
   "execution_count": 1,
   "id": "d5cae9db-cef9-48a8-a351-9c5fcc99645c",
   "metadata": {
    "jupyter": {
     "outputs_hidden": true,
     "source_hidden": false
    },
    "microsoft": {
     "language": "python",
     "language_group": "synapse_pyspark"
    },
    "nteract": {
     "transient": {
      "deleting": false
     }
    }
   },
   "outputs": [
    {
     "data": {
      "application/vnd.livy.statement-meta+json": {
       "execution_finish_time": "2025-07-23T19:23:25.1600945Z",
       "execution_start_time": "2025-07-23T19:23:02.1573866Z",
       "livy_statement_state": "available",
       "normalized_state": "finished",
       "parent_msg_id": "5dcc25a2-1636-4e8a-8fd8-4340fb78b8a4",
       "queued_time": "2025-07-23T19:19:19.3512049Z",
       "session_id": "1eac680e-9584-4b99-98d7-a51cc08f3a1f",
       "session_start_time": "2025-07-23T19:19:19.3515661Z",
       "spark_pool": null,
       "state": "finished",
       "statement_id": 7,
       "statement_ids": [
        3,
        4,
        5,
        6,
        7
       ]
      },
      "text/plain": [
       "StatementMeta(, 1eac680e-9584-4b99-98d7-a51cc08f3a1f, 7, Finished, Available, Finished)"
      ]
     },
     "metadata": {},
     "output_type": "display_data"
    },
    {
     "name": "stdout",
     "output_type": "stream",
     "text": [
      "Collecting semantic-link-labs\n",
      "  Downloading semantic_link_labs-0.11.2-py3-none-any.whl.metadata (27 kB)\n",
      "Collecting semantic-link-sempy>=0.11.1 (from semantic-link-labs)\n",
      "  Downloading semantic_link_sempy-0.11.1-py3-none-any.whl.metadata (10 kB)\n",
      "Collecting anytree (from semantic-link-labs)\n",
      "  Downloading anytree-2.13.0-py3-none-any.whl.metadata (8.0 kB)\n",
      "Requirement already satisfied: powerbiclient in /home/trusted-service-user/cluster-env/trident_env/lib/python3.11/site-packages (from semantic-link-labs) (3.1.1)\n",
      "Collecting polib (from semantic-link-labs)\n",
      "  Downloading polib-1.2.0-py2.py3-none-any.whl.metadata (15 kB)\n",
      "Collecting jsonpath_ng (from semantic-link-labs)\n",
      "  Downloading jsonpath_ng-1.7.0-py3-none-any.whl.metadata (18 kB)\n",
      "Requirement already satisfied: clr-loader>=0.2.5 in /home/trusted-service-user/cluster-env/trident_env/lib/python3.11/site-packages (from semantic-link-sempy>=0.11.1->semantic-link-labs) (0.2.5)\n",
      "Requirement already satisfied: graphviz>=0.20.1 in /home/trusted-service-user/cluster-env/trident_env/lib/python3.11/site-packages (from semantic-link-sempy>=0.11.1->semantic-link-labs) (0.20.1)\n",
      "Requirement already satisfied: pyarrow>=12.0.1 in /home/trusted-service-user/cluster-env/trident_env/lib/python3.11/site-packages (from semantic-link-sempy>=0.11.1->semantic-link-labs) (14.0.2)\n",
      "Requirement already satisfied: pythonnet>=3.0.1 in /home/trusted-service-user/cluster-env/trident_env/lib/python3.11/site-packages (from semantic-link-sempy>=0.11.1->semantic-link-labs) (3.0.1)\n",
      "Requirement already satisfied: scikit-learn>=1.2.2 in /home/trusted-service-user/cluster-env/trident_env/lib/python3.11/site-packages (from semantic-link-sempy>=0.11.1->semantic-link-labs) (1.2.2)\n",
      "Requirement already satisfied: setuptools>=68.2.2 in /home/trusted-service-user/cluster-env/trident_env/lib/python3.11/site-packages (from semantic-link-sempy>=0.11.1->semantic-link-labs) (68.2.2)\n",
      "Requirement already satisfied: tqdm>=4.65.0 in /home/trusted-service-user/cluster-env/trident_env/lib/python3.11/site-packages (from semantic-link-sempy>=0.11.1->semantic-link-labs) (4.65.0)\n",
      "Requirement already satisfied: rich>=13.3.5 in /home/trusted-service-user/cluster-env/trident_env/lib/python3.11/site-packages (from semantic-link-sempy>=0.11.1->semantic-link-labs) (13.3.5)\n",
      "Requirement already satisfied: regex>=2023.8.8 in /home/trusted-service-user/cluster-env/trident_env/lib/python3.11/site-packages (from semantic-link-sempy>=0.11.1->semantic-link-labs) (2023.10.3)\n",
      "Requirement already satisfied: pandas>=1.5.3 in /home/trusted-service-user/cluster-env/trident_env/lib/python3.11/site-packages (from semantic-link-sempy>=0.11.1->semantic-link-labs) (2.1.4)\n",
      "Requirement already satisfied: pyspark>=3.4.1 in /home/trusted-service-user/cluster-env/trident_env/lib/python3.11/site-packages (from semantic-link-sempy>=0.11.1->semantic-link-labs) (3.5.1.5.4.20240407)\n",
      "Requirement already satisfied: requests>=2.31.0 in /home/trusted-service-user/cluster-env/trident_env/lib/python3.11/site-packages (from semantic-link-sempy>=0.11.1->semantic-link-labs) (2.31.0)\n",
      "Requirement already satisfied: aiohttp>=3.8.6 in /home/trusted-service-user/cluster-env/trident_env/lib/python3.11/site-packages (from semantic-link-sempy>=0.11.1->semantic-link-labs) (3.9.3)\n",
      "Requirement already satisfied: IPython>=8.14.0 in /home/trusted-service-user/cluster-env/trident_env/lib/python3.11/site-packages (from semantic-link-sempy>=0.11.1->semantic-link-labs) (8.20.0)\n",
      "Requirement already satisfied: tenacity>=8.2.3 in /home/trusted-service-user/cluster-env/trident_env/lib/python3.11/site-packages (from semantic-link-sempy>=0.11.1->semantic-link-labs) (8.2.3)\n",
      "Requirement already satisfied: ply in /home/trusted-service-user/cluster-env/trident_env/lib/python3.11/site-packages (from jsonpath_ng->semantic-link-labs) (3.11)\n",
      "Requirement already satisfied: ipywidgets>=7.0.0 in /home/trusted-service-user/cluster-env/trident_env/lib/python3.11/site-packages (from powerbiclient->semantic-link-labs) (8.1.2)\n",
      "Requirement already satisfied: jupyter-ui-poll>=0.1.2 in /home/trusted-service-user/cluster-env/trident_env/lib/python3.11/site-packages (from powerbiclient->semantic-link-labs) (1.0.0)\n",
      "Requirement already satisfied: msal>=1.8.0 in /home/trusted-service-user/cluster-env/trident_env/lib/python3.11/site-packages (from powerbiclient->semantic-link-labs) (1.25.0)\n",
      "Requirement already satisfied: aiosignal>=1.1.2 in /home/trusted-service-user/cluster-env/trident_env/lib/python3.11/site-packages (from aiohttp>=3.8.6->semantic-link-sempy>=0.11.1->semantic-link-labs) (1.2.0)\n",
      "Requirement already satisfied: attrs>=17.3.0 in /home/trusted-service-user/cluster-env/trident_env/lib/python3.11/site-packages (from aiohttp>=3.8.6->semantic-link-sempy>=0.11.1->semantic-link-labs) (23.1.0)\n",
      "Requirement already satisfied: frozenlist>=1.1.1 in /home/trusted-service-user/cluster-env/trident_env/lib/python3.11/site-packages (from aiohttp>=3.8.6->semantic-link-sempy>=0.11.1->semantic-link-labs) (1.4.0)\n",
      "Requirement already satisfied: multidict<7.0,>=4.5 in /home/trusted-service-user/cluster-env/trident_env/lib/python3.11/site-packages (from aiohttp>=3.8.6->semantic-link-sempy>=0.11.1->semantic-link-labs) (6.0.4)\n",
      "Requirement already satisfied: yarl<2.0,>=1.0 in /home/trusted-service-user/cluster-env/trident_env/lib/python3.11/site-packages (from aiohttp>=3.8.6->semantic-link-sempy>=0.11.1->semantic-link-labs) (1.9.3)\n",
      "Requirement already satisfied: cffi>=1.13 in /home/trusted-service-user/cluster-env/trident_env/lib/python3.11/site-packages (from clr-loader>=0.2.5->semantic-link-sempy>=0.11.1->semantic-link-labs) (1.16.0)\n",
      "Requirement already satisfied: decorator in /home/trusted-service-user/cluster-env/trident_env/lib/python3.11/site-packages (from IPython>=8.14.0->semantic-link-sempy>=0.11.1->semantic-link-labs) (5.1.1)\n",
      "Requirement already satisfied: jedi>=0.16 in /home/trusted-service-user/cluster-env/trident_env/lib/python3.11/site-packages (from IPython>=8.14.0->semantic-link-sempy>=0.11.1->semantic-link-labs) (0.18.1)\n",
      "Requirement already satisfied: matplotlib-inline in /home/trusted-service-user/cluster-env/trident_env/lib/python3.11/site-packages (from IPython>=8.14.0->semantic-link-sempy>=0.11.1->semantic-link-labs) (0.1.6)\n",
      "Requirement already satisfied: prompt-toolkit<3.1.0,>=3.0.41 in /home/trusted-service-user/cluster-env/trident_env/lib/python3.11/site-packages (from IPython>=8.14.0->semantic-link-sempy>=0.11.1->semantic-link-labs) (3.0.43)\n",
      "Requirement already satisfied: pygments>=2.4.0 in /home/trusted-service-user/cluster-env/trident_env/lib/python3.11/site-packages (from IPython>=8.14.0->semantic-link-sempy>=0.11.1->semantic-link-labs) (2.15.1)\n",
      "Requirement already satisfied: stack-data in /home/trusted-service-user/cluster-env/trident_env/lib/python3.11/site-packages (from IPython>=8.14.0->semantic-link-sempy>=0.11.1->semantic-link-labs) (0.2.0)\n",
      "Requirement already satisfied: traitlets>=5 in /home/trusted-service-user/cluster-env/trident_env/lib/python3.11/site-packages (from IPython>=8.14.0->semantic-link-sempy>=0.11.1->semantic-link-labs) (5.7.1)\n",
      "Requirement already satisfied: pexpect>4.3 in /home/trusted-service-user/cluster-env/trident_env/lib/python3.11/site-packages (from IPython>=8.14.0->semantic-link-sempy>=0.11.1->semantic-link-labs) (4.8.0)\n",
      "Requirement already satisfied: comm>=0.1.3 in /home/trusted-service-user/cluster-env/trident_env/lib/python3.11/site-packages (from ipywidgets>=7.0.0->powerbiclient->semantic-link-labs) (0.2.1)\n",
      "Requirement already satisfied: widgetsnbextension~=4.0.10 in /home/trusted-service-user/cluster-env/trident_env/lib/python3.11/site-packages (from ipywidgets>=7.0.0->powerbiclient->semantic-link-labs) (4.0.10)\n",
      "Requirement already satisfied: jupyterlab-widgets~=3.0.10 in /home/trusted-service-user/cluster-env/trident_env/lib/python3.11/site-packages (from ipywidgets>=7.0.0->powerbiclient->semantic-link-labs) (3.0.10)\n",
      "Requirement already satisfied: PyJWT<3,>=1.0.0 in /home/trusted-service-user/cluster-env/trident_env/lib/python3.11/site-packages (from PyJWT[crypto]<3,>=1.0.0->msal>=1.8.0->powerbiclient->semantic-link-labs) (2.4.0)\n",
      "Requirement already satisfied: cryptography<44,>=0.6 in /home/trusted-service-user/cluster-env/trident_env/lib/python3.11/site-packages (from msal>=1.8.0->powerbiclient->semantic-link-labs) (42.0.2)\n",
      "Requirement already satisfied: numpy<2,>=1.23.2 in /home/trusted-service-user/cluster-env/trident_env/lib/python3.11/site-packages (from pandas>=1.5.3->semantic-link-sempy>=0.11.1->semantic-link-labs) (1.26.4)\n",
      "Requirement already satisfied: python-dateutil>=2.8.2 in /home/trusted-service-user/cluster-env/trident_env/lib/python3.11/site-packages (from pandas>=1.5.3->semantic-link-sempy>=0.11.1->semantic-link-labs) (2.8.2)\n",
      "Requirement already satisfied: pytz>=2020.1 in /home/trusted-service-user/cluster-env/trident_env/lib/python3.11/site-packages (from pandas>=1.5.3->semantic-link-sempy>=0.11.1->semantic-link-labs) (2023.3.post1)\n",
      "Requirement already satisfied: tzdata>=2022.1 in /home/trusted-service-user/cluster-env/trident_env/lib/python3.11/site-packages (from pandas>=1.5.3->semantic-link-sempy>=0.11.1->semantic-link-labs) (2023.3)\n",
      "Requirement already satisfied: py4j==0.10.9.7 in /home/trusted-service-user/cluster-env/trident_env/lib/python3.11/site-packages (from pyspark>=3.4.1->semantic-link-sempy>=0.11.1->semantic-link-labs) (0.10.9.7)\n",
      "Requirement already satisfied: charset-normalizer<4,>=2 in /home/trusted-service-user/cluster-env/trident_env/lib/python3.11/site-packages (from requests>=2.31.0->semantic-link-sempy>=0.11.1->semantic-link-labs) (2.0.4)\n",
      "Requirement already satisfied: idna<4,>=2.5 in /home/trusted-service-user/cluster-env/trident_env/lib/python3.11/site-packages (from requests>=2.31.0->semantic-link-sempy>=0.11.1->semantic-link-labs) (3.4)\n",
      "Requirement already satisfied: urllib3<3,>=1.21.1 in /home/trusted-service-user/cluster-env/trident_env/lib/python3.11/site-packages (from requests>=2.31.0->semantic-link-sempy>=0.11.1->semantic-link-labs) (2.1.0)\n",
      "Requirement already satisfied: certifi>=2017.4.17 in /home/trusted-service-user/cluster-env/trident_env/lib/python3.11/site-packages (from requests>=2.31.0->semantic-link-sempy>=0.11.1->semantic-link-labs) (2024.2.2)\n",
      "Requirement already satisfied: markdown-it-py<3.0.0,>=2.2.0 in /home/trusted-service-user/cluster-env/trident_env/lib/python3.11/site-packages (from rich>=13.3.5->semantic-link-sempy>=0.11.1->semantic-link-labs) (2.2.0)\n",
      "Requirement already satisfied: scipy>=1.3.2 in /home/trusted-service-user/cluster-env/trident_env/lib/python3.11/site-packages (from scikit-learn>=1.2.2->semantic-link-sempy>=0.11.1->semantic-link-labs) (1.11.4)\n",
      "Requirement already satisfied: joblib>=1.1.1 in /home/trusted-service-user/cluster-env/trident_env/lib/python3.11/site-packages (from scikit-learn>=1.2.2->semantic-link-sempy>=0.11.1->semantic-link-labs) (1.2.0)\n",
      "Requirement already satisfied: threadpoolctl>=2.0.0 in /home/trusted-service-user/cluster-env/trident_env/lib/python3.11/site-packages (from scikit-learn>=1.2.2->semantic-link-sempy>=0.11.1->semantic-link-labs) (2.2.0)\n",
      "Requirement already satisfied: pycparser in /home/trusted-service-user/cluster-env/trident_env/lib/python3.11/site-packages (from cffi>=1.13->clr-loader>=0.2.5->semantic-link-sempy>=0.11.1->semantic-link-labs) (2.21)\n",
      "Requirement already satisfied: parso<0.9.0,>=0.8.0 in /home/trusted-service-user/cluster-env/trident_env/lib/python3.11/site-packages (from jedi>=0.16->IPython>=8.14.0->semantic-link-sempy>=0.11.1->semantic-link-labs) (0.8.3)\n",
      "Requirement already satisfied: mdurl~=0.1 in /home/trusted-service-user/cluster-env/trident_env/lib/python3.11/site-packages (from markdown-it-py<3.0.0,>=2.2.0->rich>=13.3.5->semantic-link-sempy>=0.11.1->semantic-link-labs) (0.1.0)\n",
      "Requirement already satisfied: ptyprocess>=0.5 in /home/trusted-service-user/cluster-env/trident_env/lib/python3.11/site-packages (from pexpect>4.3->IPython>=8.14.0->semantic-link-sempy>=0.11.1->semantic-link-labs) (0.7.0)\n",
      "Requirement already satisfied: wcwidth in /home/trusted-service-user/cluster-env/trident_env/lib/python3.11/site-packages (from prompt-toolkit<3.1.0,>=3.0.41->IPython>=8.14.0->semantic-link-sempy>=0.11.1->semantic-link-labs) (0.2.5)\n",
      "Requirement already satisfied: six>=1.5 in /home/trusted-service-user/cluster-env/trident_env/lib/python3.11/site-packages (from python-dateutil>=2.8.2->pandas>=1.5.3->semantic-link-sempy>=0.11.1->semantic-link-labs) (1.16.0)\n",
      "Requirement already satisfied: executing in /home/trusted-service-user/cluster-env/trident_env/lib/python3.11/site-packages (from stack-data->IPython>=8.14.0->semantic-link-sempy>=0.11.1->semantic-link-labs) (0.8.3)\n",
      "Requirement already satisfied: asttokens in /home/trusted-service-user/cluster-env/trident_env/lib/python3.11/site-packages (from stack-data->IPython>=8.14.0->semantic-link-sempy>=0.11.1->semantic-link-labs) (2.0.5)\n",
      "Requirement already satisfied: pure-eval in /home/trusted-service-user/cluster-env/trident_env/lib/python3.11/site-packages (from stack-data->IPython>=8.14.0->semantic-link-sempy>=0.11.1->semantic-link-labs) (0.2.2)\n",
      "Downloading semantic_link_labs-0.11.2-py3-none-any.whl (743 kB)\n",
      "\u001b[2K   \u001b[90m━━━━━━━━━━━━━━━━━━━━━━━━━━━━━━━━━━━━━━━━\u001b[0m \u001b[32m743.1/743.1 kB\u001b[0m \u001b[31m11.0 MB/s\u001b[0m eta \u001b[36m0:00:00\u001b[0ma \u001b[36m0:00:01\u001b[0m\n",
      "\u001b[?25hDownloading semantic_link_sempy-0.11.1-py3-none-any.whl (3.2 MB)\n",
      "\u001b[2K   \u001b[90m━━━━━━━━━━━━━━━━━━━━━━━━━━━━━━━━━━━━━━━━\u001b[0m \u001b[32m3.2/3.2 MB\u001b[0m \u001b[31m20.3 MB/s\u001b[0m eta \u001b[36m0:00:00\u001b[0ma \u001b[36m0:00:01\u001b[0m\n",
      "\u001b[?25hDownloading anytree-2.13.0-py3-none-any.whl (45 kB)\n",
      "\u001b[2K   \u001b[90m━━━━━━━━━━━━━━━━━━━━━━━━━━━━━━━━━━━━━━━━\u001b[0m \u001b[32m45.1/45.1 kB\u001b[0m \u001b[31m12.8 MB/s\u001b[0m eta \u001b[36m0:00:00\u001b[0m\n",
      "\u001b[?25hDownloading jsonpath_ng-1.7.0-py3-none-any.whl (30 kB)\n",
      "Downloading polib-1.2.0-py2.py3-none-any.whl (20 kB)\n",
      "Installing collected packages: polib, jsonpath_ng, anytree, semantic-link-sempy, semantic-link-labs\n",
      "  Attempting uninstall: semantic-link-sempy\n",
      "    Found existing installation: semantic-link-sempy 0.10.2\n",
      "    Not uninstalling semantic-link-sempy at /home/trusted-service-user/cluster-env/trident_env/lib/python3.11/site-packages, outside environment /nfs4/pyenv-30fbe774-17c6-489b-b4d1-6fb79c3f4cf1\n",
      "    Can't uninstall 'semantic-link-sempy'. No files were found to uninstall.\n",
      "Successfully installed anytree-2.13.0 jsonpath_ng-1.7.0 polib-1.2.0 semantic-link-labs-0.11.2 semantic-link-sempy-0.11.1\n",
      "\n",
      "\u001b[1m[\u001b[0m\u001b[34;49mnotice\u001b[0m\u001b[1;39;49m]\u001b[0m\u001b[39;49m A new release of pip is available: \u001b[0m\u001b[31;49m24.0\u001b[0m\u001b[39;49m -> \u001b[0m\u001b[32;49m25.1.1\u001b[0m\n",
      "\u001b[1m[\u001b[0m\u001b[34;49mnotice\u001b[0m\u001b[1;39;49m]\u001b[0m\u001b[39;49m To update, run: \u001b[0m\u001b[32;49mpython -m pip install --upgrade pip\u001b[0m\n",
      "Note: you may need to restart the kernel to use updated packages.\n",
      "Warning: PySpark kernel has been restarted to use updated packages.\n",
      "\n"
     ]
    }
   ],
   "source": [
    "%pip install semantic-link-labs"
   ]
  },
  {
   "cell_type": "markdown",
   "id": "2856d26d",
   "metadata": {},
   "source": [
    "### Requirements\n",
    "* Must have an Azure Subscription\n",
    "* Must [register an App](https://ms.portal.azure.com/#blade/Microsoft_AAD_RegisteredApps/ApplicationsListBlade)\n",
    "    * Permissions: Will need the Contributor role at the scope where the resources will be created, which is often the subscription level\n",
    "* Azure Key Vault\n",
    "    * [Set up](https://learn.microsoft.com/azure/key-vault/secrets/quick-create-portal) within the Azure Subscription\n",
    "    * Save secrets for the Tenant ID, Client ID (Application ID), Client Secret\n",
    "    * Permissions: Ensure the user who will be executing the notebooks has “Key Vault Secrets User”\n",
    "* Fabric Permissions\n",
    "    * User should be a tenant admin. This ensures they have the necessary authority to execute and manage the notebooks without encountering permission issues.\n",
    "\n",
    "### Result\n",
    "* F skus are created for each (specified) capacity\n",
    "    * Within the same region as the P SKU\n",
    "    * Equivalent SKU size as the P SKU\n",
    "    * Same admins as listed on the P SKU\n",
    "    * All workspaces are migrated to the corresponding new capacity\n",
    "* The names of the newly created F SKU capacities will be an alphanumeric lowercase version of the P SKU capacity name, suffixed with 'fsku'. As an example: \"My capacity_3!\" -> \"mycapacity3fsku\".\n"
   ]
  },
  {
   "cell_type": "markdown",
   "id": "b195eae8",
   "metadata": {},
   "source": [
    "### Import the library and set the initial parameters"
   ]
  },
  {
   "cell_type": "code",
   "execution_count": 6,
   "id": "04914761-3be5-40c8-984c-7848e2bc495e",
   "metadata": {
    "microsoft": {
     "language": "python",
     "language_group": "synapse_pyspark"
    }
   },
   "outputs": [
    {
     "data": {
      "application/vnd.livy.statement-meta+json": {
       "execution_finish_time": "2025-07-23T23:31:10.6547879Z",
       "execution_start_time": "2025-07-23T23:31:08.3896192Z",
       "livy_statement_state": "available",
       "normalized_state": "finished",
       "parent_msg_id": "dc05b659-e69f-43f9-8da1-d4db8523c488",
       "queued_time": "2025-07-23T23:31:08.3884663Z",
       "session_id": "ab92e4bc-509d-4d5f-85b5-3e4bf932eba2",
       "session_start_time": null,
       "spark_pool": null,
       "state": "finished",
       "statement_id": 8,
       "statement_ids": [
        8
       ]
      },
      "text/plain": [
       "StatementMeta(, ab92e4bc-509d-4d5f-85b5-3e4bf932eba2, 8, Finished, Available, Finished)"
      ]
     },
     "metadata": {},
     "output_type": "display_data"
    }
   ],
   "source": [
    "import requests\n",
    "from azure.identity import DefaultAzureCredential, ClientSecretCredential\n",
    "from azure.keyvault.secrets import SecretClient\n",
    "import os\n",
    "import notebookutils\n",
    "import pandas as pd"
   ]
  },
  {
   "cell_type": "code",
   "execution_count": 21,
   "id": "2ab19f06-59d2-40e1-a28f-bda43c09e7e6",
   "metadata": {
    "microsoft": {
     "language": "python",
     "language_group": "synapse_pyspark"
    }
   },
   "outputs": [
    {
     "data": {
      "application/vnd.livy.statement-meta+json": {
       "execution_finish_time": "2025-07-23T23:33:09.0149954Z",
       "execution_start_time": "2025-07-23T23:33:08.7693357Z",
       "livy_statement_state": "available",
       "normalized_state": "finished",
       "parent_msg_id": "37ab1550-08c3-49b4-8cd0-3418818246c5",
       "queued_time": "2025-07-23T23:33:08.7680721Z",
       "session_id": "ab92e4bc-509d-4d5f-85b5-3e4bf932eba2",
       "session_start_time": null,
       "spark_pool": null,
       "state": "finished",
       "statement_id": 23,
       "statement_ids": [
        23
       ]
      },
      "text/plain": [
       "StatementMeta(, ab92e4bc-509d-4d5f-85b5-3e4bf932eba2, 23, Finished, Available, Finished)"
      ]
     },
     "metadata": {},
     "output_type": "display_data"
    }
   ],
   "source": [
    "# functions\n",
    "def get_api_token_via_akv(kv_uri:str, client_id_secret:str, tenant_id_secret:str, client_secret_name:str)->str:\n",
    "    \"\"\"\n",
    "    Function to retrieve an api token used to authenticate with Microsoft Fabric APIs\n",
    "\n",
    "    kv_uri:str: The uri of the azure key vault\n",
    "    client_id_secret:str: The name of the key used to store the value for the client id in the akv\n",
    "    tenant_id_secret:str: The name of the key used to store the value for the tenant id in the akv\n",
    "    client_secret_name:str: The name of the key used to store the value for the client secret in the akv\n",
    "\n",
    "    \"\"\"\n",
    "    client_id = notebookutils.credentials.getSecret(kv_uri, client_id_secret)\n",
    "    tenant_id = notebookutils.credentials.getSecret(kv_uri, tenant_id_secret)\n",
    "    client_secret = notebookutils.credentials.getSecret(kv_uri, client_secret_name)\n",
    "\n",
    "    credential = ClientSecretCredential(tenant_id, client_id, client_secret)\n",
    "    scope = 'https://analysis.windows.net/powerbi/api/.default'\n",
    "    token = credential.get_token(scope).token\n",
    "\n",
    "    return token\n",
    "\n",
    "\n",
    "def assign_workspace_to_capacity(workspace_list:list, capacity_str:str, api_token:str) ->None:\n",
    "    \"\"\"\n",
    "    Given a list assign all workspaces in list to a capacity\n",
    "    \"\"\"\n",
    "    for workspace_id in workspace_list:\n",
    "        print(f'Attempting to migrate workspace:{workspace_id} to capacity:{capacity_str}')\n",
    "\n",
    "        url = f'https://api.fabric.microsoft.com/v1/workspaces/{workspace_id}/assignToCapacity'\n",
    "\n",
    "        post_body = {\n",
    "            \"capacityId\": capacity_str\n",
    "            }\n",
    "\n",
    "\n",
    "        headers = {\n",
    "        \"Authorization\": f\"Bearer {api_token}\",\n",
    "        \"Content-Type\": \"application/json\"\n",
    "        }    \n",
    "\n",
    "        response = requests.post(url, headers=headers, json=post_body)\n",
    "        print(response.status_code)\n"
   ]
  },
  {
   "cell_type": "code",
   "execution_count": null,
   "id": "1a718431-5060-4ab3-9590-2edd4d9b0652",
   "metadata": {
    "microsoft": {
     "language": "python",
     "language_group": "synapse_pyspark"
    }
   },
   "outputs": [
    {
     "data": {
      "application/vnd.livy.statement-meta+json": {
       "execution_finish_time": "2025-07-23T23:31:56.3372983Z",
       "execution_start_time": "2025-07-23T23:31:56.0731844Z",
       "livy_statement_state": "available",
       "normalized_state": "finished",
       "parent_msg_id": "97289c4f-3b0b-4658-9b7f-b4c3d40190ed",
       "queued_time": "2025-07-23T23:31:56.072Z",
       "session_id": "ab92e4bc-509d-4d5f-85b5-3e4bf932eba2",
       "session_start_time": null,
       "spark_pool": null,
       "state": "finished",
       "statement_id": 14,
       "statement_ids": [
        14
       ]
      },
      "text/plain": [
       "StatementMeta(, ab92e4bc-509d-4d5f-85b5-3e4bf932eba2, 14, Finished, Available, Finished)"
      ]
     },
     "metadata": {},
     "output_type": "display_data"
    }
   ],
   "source": [
    "kv_uri = 'https://kvfabricprodeus2rh.vault.azure.net/'\n",
    "client_id_secret = 'fuam-spn-client-id'\n",
    "tenant_id_secret = 'fuam-spn-tenant-id'\n",
    "client_secret_name = 'fuam-spn-secret'\n",
    "\n",
    "# get oauth token\n",
    "token = get_api_token_via_akv(kv_uri, client_id_secret, tenant_id_secret, client_secret_name)"
   ]
  },
  {
   "cell_type": "code",
   "execution_count": 13,
   "id": "6e135ffd-dfcf-403d-8914-a07c9a093446",
   "metadata": {
    "microsoft": {
     "language": "python",
     "language_group": "synapse_pyspark"
    }
   },
   "outputs": [
    {
     "data": {
      "application/vnd.livy.statement-meta+json": {
       "execution_finish_time": "2025-07-23T23:31:57.5964965Z",
       "execution_start_time": "2025-07-23T23:31:57.3213616Z",
       "livy_statement_state": "available",
       "normalized_state": "finished",
       "parent_msg_id": "bfc6216f-b423-4908-94d5-eaee39553c53",
       "queued_time": "2025-07-23T23:31:57.320245Z",
       "session_id": "ab92e4bc-509d-4d5f-85b5-3e4bf932eba2",
       "session_start_time": null,
       "spark_pool": null,
       "state": "finished",
       "statement_id": 15,
       "statement_ids": [
        15
       ]
      },
      "text/plain": [
       "StatementMeta(, ab92e4bc-509d-4d5f-85b5-3e4bf932eba2, 15, Finished, Available, Finished)"
      ]
     },
     "metadata": {},
     "output_type": "display_data"
    }
   ],
   "source": [
    "workspace_list = ['2aeec6bf-64bd-4d25-be52-96846463b87c', 'fabe3025-1bb3-49a4-9948-09daf4e797c9', '79a33dbf-1742-40c5-885b-fb369152d26e']"
   ]
  },
  {
   "cell_type": "code",
   "execution_count": 22,
   "id": "ba87ade3-305a-4e77-8024-3f6a864a5d56",
   "metadata": {
    "microsoft": {
     "language": "python",
     "language_group": "synapse_pyspark"
    }
   },
   "outputs": [
    {
     "data": {
      "application/vnd.livy.statement-meta+json": {
       "execution_finish_time": "2025-07-23T23:33:16.1670248Z",
       "execution_start_time": "2025-07-23T23:33:12.695699Z",
       "livy_statement_state": "available",
       "normalized_state": "finished",
       "parent_msg_id": "c9dd6079-163e-4c9a-8497-5df8c0bf17a7",
       "queued_time": "2025-07-23T23:33:12.6941921Z",
       "session_id": "ab92e4bc-509d-4d5f-85b5-3e4bf932eba2",
       "session_start_time": null,
       "spark_pool": null,
       "state": "finished",
       "statement_id": 24,
       "statement_ids": [
        24
       ]
      },
      "text/plain": [
       "StatementMeta(, ab92e4bc-509d-4d5f-85b5-3e4bf932eba2, 24, Finished, Available, Finished)"
      ]
     },
     "metadata": {},
     "output_type": "display_data"
    },
    {
     "name": "stdout",
     "output_type": "stream",
     "text": [
      "Attempting to migrate workspace:2aeec6bf-64bd-4d25-be52-96846463b87c to capacity:76BFD071-AE1C-4189-8833-1A2F2B48E505\n",
      "202\n",
      "Attempting to migrate workspace:fabe3025-1bb3-49a4-9948-09daf4e797c9 to capacity:76BFD071-AE1C-4189-8833-1A2F2B48E505\n",
      "202\n",
      "Attempting to migrate workspace:79a33dbf-1742-40c5-885b-fb369152d26e to capacity:76BFD071-AE1C-4189-8833-1A2F2B48E505\n",
      "202\n"
     ]
    }
   ],
   "source": [
    "assign_workspace_to_capacity(workspace_list=workspace_list, capacity_str='76BFD071-AE1C-4189-8833-1A2F2B48E505', api_token=token)"
   ]
  },
  {
   "cell_type": "markdown",
   "id": "b4ab5146-5620-4de3-bbe0-2c7025cc5915",
   "metadata": {
    "microsoft": {
     "language": "python",
     "language_group": "synapse_pyspark"
    },
    "nteract": {
     "transient": {
      "deleting": false
     }
    }
   },
   "source": [
    "### Setup for Key Vault Authentication"
   ]
  },
  {
   "cell_type": "code",
   "execution_count": null,
   "id": "1344e286",
   "metadata": {
    "microsoft": {
     "language": "python",
     "language_group": "synapse_pyspark"
    }
   },
   "outputs": [],
   "source": [
    "import sempy_labs as labs\n",
    "import sempy_labs.admin as admin\n",
    "\n",
    "azure_subscription_id = '' # Enter your Azure subscription ID\n",
    "resource_group = '' # Enter the name of the resource group (to be used to create the new F skus)\n",
    "\n",
    "key_vault_uri = '', # Enter your key vault URI\n",
    "key_vault_tenant_id = '', # Enter the key vault key to the secret storing your Tenant ID\n",
    "key_vault_client_id = '', # Enter the key vault key to the secret storing your Client ID (Application ID)\n",
    "key_vault_client_secret = '' # Enter the key vault key to the secret storing your Client Secret"
   ]
  },
  {
   "cell_type": "markdown",
   "id": "5a3fe6e8-b8aa-4447-812b-7931831e07fe",
   "metadata": {
    "nteract": {
     "transient": {
      "deleting": false
     }
    }
   },
   "source": [
    "### Migrate a single P SKU -> F SKU\n",
    "Set the 'capacities' parameter to the single P SKU."
   ]
  },
  {
   "cell_type": "code",
   "execution_count": null,
   "id": "3655dd88",
   "metadata": {
    "microsoft": {
     "language": "python",
     "language_group": "synapse_pyspark"
    }
   },
   "outputs": [],
   "source": [
    "with labs.service_principal_authentication(\n",
    "    key_vault_uri=key_vault_uri, \n",
    "    key_vault_tenant_id=key_vault_tenant_id,\n",
    "    key_vault_client_id=key_vault_client_id,\n",
    "    key_vault_client_secret=key_vault_client_secret):\n",
    "\n",
    "    labs.migrate_capacities(\n",
    "        azure_subscription_id = azure_subscription_id,\n",
    "        resource_group = resource_group,\n",
    "        capacities = 'CapacityA',\n",
    "        p_sku_only = True,\n",
    "    )"
   ]
  },
  {
   "cell_type": "markdown",
   "id": "175a59b8",
   "metadata": {},
   "source": [
    "### Migrate a list of P SKUs to F SKUs\n",
    "Set the 'capacities' parameter to a list of P SKUs."
   ]
  },
  {
   "cell_type": "code",
   "execution_count": null,
   "id": "3a7a80ec",
   "metadata": {
    "microsoft": {
     "language": "python",
     "language_group": "synapse_pyspark"
    }
   },
   "outputs": [],
   "source": [
    "with labs.service_principal_authentication(\n",
    "    key_vault_uri=key_vault_uri, \n",
    "    key_vault_tenant_id=key_vault_tenant_id,\n",
    "    key_vault_client_id=key_vault_client_id,\n",
    "    key_vault_client_secret=key_vault_client_secret):\n",
    "\n",
    "    labs.migrate_capacities(\n",
    "        azure_subscription_id = azure_subscription_id,\n",
    "        resource_group = resource_group,\n",
    "        capacities = ['CapacityA', 'CapacityB', 'CapacityC'],\n",
    "        p_sku_only = True,\n",
    "    )"
   ]
  },
  {
   "cell_type": "markdown",
   "id": "30438799",
   "metadata": {},
   "source": [
    "### Migrate all P SKUs to F SKUs\n",
    "Set the 'capacities' parameter to None."
   ]
  },
  {
   "cell_type": "code",
   "execution_count": null,
   "id": "315c2dc7",
   "metadata": {
    "microsoft": {
     "language": "python",
     "language_group": "synapse_pyspark"
    }
   },
   "outputs": [],
   "source": [
    "with labs.service_principal_authentication(\n",
    "    key_vault_uri=key_vault_uri, \n",
    "    key_vault_tenant_id=key_vault_tenant_id,\n",
    "    key_vault_client_id=key_vault_client_id,\n",
    "    key_vault_client_secret=key_vault_client_secret):\n",
    "\n",
    "    labs.migrate_capacities(\n",
    "        azure_subscription_id = azure_subscription_id,\n",
    "        resource_group = resource_group,\n",
    "        capacities = None,\n",
    "        p_sku_only = True,\n",
    "    )"
   ]
  },
  {
   "cell_type": "markdown",
   "id": "1d8e73b2",
   "metadata": {},
   "source": [
    "### Migrate a list of P SKUs to F SKUs; associate each capacity with a specific resource group\n",
    "This process ensures that each F SKU is created within the resource group specified in the resource_group_mapping dictionary."
   ]
  },
  {
   "cell_type": "code",
   "execution_count": null,
   "id": "2854bf8a",
   "metadata": {
    "microsoft": {
     "language": "python",
     "language_group": "synapse_pyspark"
    }
   },
   "outputs": [],
   "source": [
    "resource_group_mapping = {\n",
    "    \"CapacityA\": \"ResourceGroupA\",\n",
    "    \"CapacityB\": \"ResourceGroupA\",\n",
    "    \"CapacityC\": \"ResourceGroupB\",\n",
    "}\n",
    "\n",
    "with labs.service_principal_authentication(\n",
    "    key_vault_uri=key_vault_uri, \n",
    "    key_vault_tenant_id=key_vault_tenant_id,\n",
    "    key_vault_client_id=key_vault_client_id,\n",
    "    key_vault_client_secret=key_vault_client_secret):\n",
    "\n",
    "    labs.migrate_capacities(\n",
    "        azure_subscription_id = azure_subscription_id,\n",
    "        resource_group = resource_group_mapping,\n",
    "        capacities = ['CapacityA', 'CapacityB', 'CapacityC'],\n",
    "        p_sku_only = True,\n",
    "    )"
   ]
  },
  {
   "cell_type": "markdown",
   "id": "c3f497c8",
   "metadata": {},
   "source": [
    "### Migrate a single source capacity to a target capacity (target capacity already created)"
   ]
  },
  {
   "cell_type": "code",
   "execution_count": null,
   "id": "a4f0b5a2",
   "metadata": {
    "microsoft": {
     "language": "python",
     "language_group": "synapse_pyspark"
    }
   },
   "outputs": [],
   "source": [
    "source_capacity = '' # Enter the Source capacity name\n",
    "target_capacity = '' # Enter the Target capacity name (already exists) \n",
    "\n",
    "admin.assign_workspaces_to_capacity(\n",
    "    source_capacity=source_capacity,\n",
    "    target_capacity=target_capacity,\n",
    "    workspace=None,\n",
    ")"
   ]
  },
  {
   "cell_type": "markdown",
   "id": "e0db744b",
   "metadata": {},
   "source": [
    "### Migrate a list of source capacities to target capacities (target capacity already created)"
   ]
  },
  {
   "cell_type": "code",
   "execution_count": null,
   "id": "0e04d519",
   "metadata": {
    "microsoft": {
     "language": "python",
     "language_group": "synapse_pyspark"
    }
   },
   "outputs": [],
   "source": [
    "capacity_mapping = {\n",
    "    \"capacitya\": \"capacityanew\", # Format is \"Source SKU\": \"Target SKU\"\n",
    "    \"capacityb\": \"capacitybnew\",\n",
    "    \"capacityc\": \"capacitycnew\",\n",
    "}\n",
    "\n",
    "capacities = list(capacity_mapping.keys())\n",
    "\n",
    "for capacity in capacities:\n",
    "    admin.assign_workspaces_to_capacity(\n",
    "        source_capacity=capacity,\n",
    "        target_capacity=capacity_mapping.get(capacity),\n",
    "        workspace=None,\n",
    "    )"
   ]
  },
  {
   "cell_type": "markdown",
   "id": "67787c3a",
   "metadata": {},
   "source": [
    "### Migrate a Fabric Trial Capacity (FT1) to a Fabric Capacity (F SKU)"
   ]
  },
  {
   "cell_type": "code",
   "execution_count": null,
   "id": "4efb55b2",
   "metadata": {
    "microsoft": {
     "language": "python",
     "language_group": "synapse_pyspark"
    }
   },
   "outputs": [],
   "source": [
    "with labs.service_principal_authentication(\n",
    "    key_vault_uri=key_vault_uri, \n",
    "    key_vault_tenant_id=key_vault_tenant_id,\n",
    "    key_vault_client_id=key_vault_client_id,\n",
    "    key_vault_client_secret=key_vault_client_secret):\n",
    "\n",
    "    labs.migrate_fabric_trial_capacity(\n",
    "        azure_subscription_id = azure_subscription_id,\n",
    "        resource_group = resource_group,\n",
    "        source_capacity = '', # The name of the Trial capacity.\n",
    "        target_capacity = '', # The name of Fabric capacity (if it does not exist it will be created).\n",
    "        target_capacity_sku = \"F64\", # Defaults to F64 but can specify the required SKU.\n",
    "        target_capacity_admin_members = None, # Setting this to None will use the same admin members as the Trial capacity.\n",
    "    )"
   ]
  },
  {
   "cell_type": "markdown",
   "id": "fc699168-5cda-4f4a-8c40-e87f210e8aa8",
   "metadata": {
    "nteract": {
     "transient": {
      "deleting": false
     }
    }
   },
   "source": [
    "# New Cells"
   ]
  }
 ],
 "metadata": {
  "kernel_info": {
   "name": "synapse_pyspark"
  },
  "kernelspec": {
   "display_name": "Synapse PySpark",
   "language": "Python",
   "name": "synapse_pyspark"
  },
  "language_info": {
   "name": "python"
  },
  "microsoft": {
   "language": "python",
   "language_group": "synapse_pyspark",
   "ms_spell_check": {
    "ms_spell_check_language": "en"
   }
  },
  "nteract": {
   "version": "nteract-front-end@1.0.0"
  },
  "spark_compute": {
   "compute_id": "/trident/default",
   "session_options": {
    "conf": {
     "spark.synapse.nbs.session.timeout": "1200000"
    }
   }
  },
  "synapse_widget": {
   "state": {},
   "version": "0.1"
  },
  "widgets": {}
 },
 "nbformat": 4,
 "nbformat_minor": 5
}
